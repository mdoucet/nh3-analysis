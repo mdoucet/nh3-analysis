{
 "cells": [
  {
   "cell_type": "markdown",
   "metadata": {},
   "source": [
    "#### Bayesian loop for time-resolved run 207275\n"
   ]
  },
  {
   "cell_type": "code",
   "execution_count": 1,
   "metadata": {
    "execution": {
     "iopub.execute_input": "2023-09-07T17:38:04.189618Z",
     "iopub.status.busy": "2023-09-07T17:38:04.189394Z",
     "iopub.status.idle": "2023-09-07T17:38:04.802691Z",
     "shell.execute_reply": "2023-09-07T17:38:04.801985Z",
     "shell.execute_reply.started": "2023-09-07T17:38:04.189602Z"
    },
    "tags": []
   },
   "outputs": [],
   "source": [
    "import sys\n",
    "import os\n",
    "import numpy as np\n",
    "import json\n",
    "import subprocess\n",
    "import time\n",
    "\n",
    "import matplotlib.pyplot as plt\n",
    "%matplotlib notebook"
   ]
  },
  {
   "cell_type": "code",
   "execution_count": 2,
   "metadata": {
    "execution": {
     "iopub.execute_input": "2023-09-07T17:38:04.803700Z",
     "iopub.status.busy": "2023-09-07T17:38:04.803453Z",
     "iopub.status.idle": "2023-09-07T17:38:06.175934Z",
     "shell.execute_reply": "2023-09-07T17:38:06.175465Z",
     "shell.execute_reply.started": "2023-09-07T17:38:04.803682Z"
    },
    "tags": []
   },
   "outputs": [
    {
     "data": {
      "text/plain": [
       "<module 'fitting_loop' from '/SNS/users/m2d/git/analysis_playground/bayesian-fitting/fitting_loop.py'>"
      ]
     },
     "execution_count": 2,
     "metadata": {},
     "output_type": "execute_result"
    }
   ],
   "source": [
    "sys.path.append(os.path.expanduser('~/git/analysis_playground/bayesian-fitting'))\n",
    "import importlib\n",
    "import model_utils\n",
    "importlib.reload(model_utils)\n",
    "import fitting_loop\n",
    "importlib.reload(fitting_loop)"
   ]
  },
  {
   "cell_type": "code",
   "execution_count": 1,
   "metadata": {
    "execution": {
     "iopub.execute_input": "2023-09-21T20:48:53.461642Z",
     "iopub.status.busy": "2023-09-21T20:48:53.461381Z",
     "iopub.status.idle": "2023-09-21T20:48:53.613090Z",
     "shell.execute_reply": "2023-09-21T20:48:53.612503Z",
     "shell.execute_reply.started": "2023-09-21T20:48:53.461617Z"
    },
    "tags": []
   },
   "outputs": [
    {
     "ename": "NameError",
     "evalue": "name 'os' is not defined",
     "output_type": "error",
     "traceback": [
      "\u001b[0;31m---------------------------------------------------------------------------\u001b[0m",
      "\u001b[0;31mNameError\u001b[0m                                 Traceback (most recent call last)",
      "Cell \u001b[0;32mIn[1], line 2\u001b[0m\n\u001b[1;32m      1\u001b[0m \u001b[38;5;66;03m# Data analysis directory\u001b[39;00m\n\u001b[0;32m----> 2\u001b[0m project_dir \u001b[38;5;241m=\u001b[39m \u001b[43mos\u001b[49m\u001b[38;5;241m.\u001b[39mpath\u001b[38;5;241m.\u001b[39mexpanduser(\u001b[38;5;124m'\u001b[39m\u001b[38;5;124m~/git/nh3-analysis/july2023/\u001b[39m\u001b[38;5;124m'\u001b[39m)\n\u001b[1;32m      4\u001b[0m \u001b[38;5;66;03m# Upper-level data directory for the time-resolved data\u001b[39;00m\n\u001b[1;32m      5\u001b[0m data_dir \u001b[38;5;241m=\u001b[39m \u001b[38;5;124m'\u001b[39m\u001b[38;5;124m/SNS/REF_L/IPTS-30384/shared/dynamic/Cu-K\u001b[39m\u001b[38;5;124m'\u001b[39m\n",
      "\u001b[0;31mNameError\u001b[0m: name 'os' is not defined"
     ]
    }
   ],
   "source": [
    "# Data analysis directory\n",
    "project_dir = os.path.expanduser('~/git/nh3-analysis/july2023/')\n",
    "\n",
    "# Upper-level data directory for the time-resolved data\n",
    "data_dir = '/SNS/REF_L/IPTS-30384/shared/dynamic/Cu-K'\n",
    "\n",
    "dyn_data_dir = os.path.join(data_dir, '30s')\n",
    "\n",
    "# Directory where we store dynamic fit results\n",
    "dyn_model_dir = os.path.expanduser(os.path.join(project_dir, 'dyn-fitting'))\n",
    "\n",
    "# Auto-reduction directory\n",
    "ar_dir = '/SNS/REF_L/IPTS-30384/shared/autoreduce/'\n",
    "\n",
    "\n",
    "dyn_model_dir = os.path.expanduser(os.path.join(project_dir, 'dyn-fitting'))\n",
    "\n",
    "\n",
    "# Initial data set and model (starting point)\n",
    "initial_data_file = os.path.join(ar_dir, 'REFL_207268_combined_data_auto.txt')\n",
    "initial_data = np.loadtxt(initial_data_file).T\n",
    "\n",
    "final_data_file = os.path.join(ar_dir, 'REFL_207282_combined_data_auto.txt')\n",
    "final_data = np.loadtxt(initial_data_file).T\n",
    "\n",
    "initial_err_file = os.path.join(dyn_model_dir, '207268-err.json')\n",
    "initial_expt_file = os.path.join(dyn_model_dir, '207268-expt.json')\n",
    "\n",
    "final_err_file = os.path.join(dyn_model_dir, '207282-err.json')\n",
    "final_expt_file = os.path.join(dyn_model_dir, '207282-expt.json')\n",
    "\n",
    "dynamic_run = 207275\n",
    "store_basename = '%s-dyn/results-30s-bck' % dynamic_run\n",
    "\n",
    "results_dir = os.path.join(dyn_model_dir, store_basename)\n"
   ]
  },
  {
   "cell_type": "code",
   "execution_count": 4,
   "metadata": {
    "execution": {
     "iopub.execute_input": "2023-09-07T17:38:10.873486Z",
     "iopub.status.busy": "2023-09-07T17:38:10.873180Z",
     "iopub.status.idle": "2023-09-07T17:38:10.884657Z",
     "shell.execute_reply": "2023-09-07T17:38:10.884200Z",
     "shell.execute_reply.started": "2023-09-07T17:38:10.873460Z"
    },
    "tags": []
   },
   "outputs": [
    {
     "name": "stdout",
     "output_type": "stream",
     "text": [
      "                          Initial                 Step\n",
      "Cu interface            9.11 +- 0.11            16 +- 0.16   \n",
      "Cu rho                  6.54 +- 0.025  \n",
      "Cu thickness             563 +- 2.8            559 +- 0.26   \n",
      "SiOx interface          9.69 +- 1.4    \n",
      "SiOx rho                 2.8 +- 0.17   \n",
      "SiOx thickness          23.9 +- 1.6    \n",
      "THF interface           15.3 +- 2.2            111 +- 4      \n",
      "THF rho                 6.28 +- 0.039  \n",
      "Ti interface            8.44 +- 0.56          6.71 +- 0.19   \n",
      "Ti rho                 -1.99 +- 0.014  \n",
      "Ti thickness            53.2 +- 0.36          49.4 +- 0.22   \n",
      "intensity                1.1 +- 0.0041        1.06 +- 0.0097 \n",
      "material interface        15 +- 1.8           14.5 +- 0.3    \n",
      "material rho            4.41 +- 0.43          0.92 +- 0.08   \n",
      "material thickness        39 +- 5.4            124 +- 1.4    \n",
      "SEI interface                                 32.2 +- 1      \n",
      "SEI irho                                     0.299 +- 0.088  \n",
      "SEI rho                                      -3.26 +- 0.14   \n",
      "SEI thickness                                  242 +- 3.7    \n",
      "material irho                              0.00294 +- 0.009  \n"
     ]
    }
   ],
   "source": [
    "importlib.reload(model_utils)\n",
    "importlib.reload(fitting_loop)\n",
    "\n",
    "\n",
    "loop = fitting_loop.FittingLoop(dyn_data_dir, results_dir=results_dir, model_dir=project_dir, model_name='model-loop-207275',\n",
    "                                initial_err_file=initial_err_file, initial_expt_file=initial_expt_file,\n",
    "                                final_err_file=final_err_file, final_expt_file=final_expt_file,\n",
    "                )\n",
    "\n",
    "loop.print_initial_final()"
   ]
  },
  {
   "cell_type": "code",
   "execution_count": 5,
   "metadata": {
    "execution": {
     "iopub.execute_input": "2023-09-07T17:38:15.145213Z",
     "iopub.status.busy": "2023-09-07T17:38:15.144896Z",
     "iopub.status.idle": "2023-09-07T18:03:19.664692Z",
     "shell.execute_reply": "2023-09-07T18:03:19.663143Z",
     "shell.execute_reply.started": "2023-09-07T17:38:15.145184Z"
    },
    "tags": []
   },
   "outputs": [
    {
     "name": "stdout",
     "output_type": "stream",
     "text": [
      "r207275_t000330.txt\n",
      "/SNS/users/m2d/git/nh3-analysis/july2023/dyn-fitting/207275-dyn/results-30s-bck/r207275_t000330/model-loop-207275-expt.json\n",
      "                          Initial                 Step\n",
      "Cu interface              16 +- 0.16   \n",
      "Cu thickness             559 +- 0.26   \n",
      "SEI interface           32.2 +- 1             15.2 +- 5.2    \n",
      "SEI irho               0.299 +- 0.088  \n",
      "SEI rho                -3.26 +- 0.14         -3.93 +- 0.37   \n",
      "SEI thickness            242 +- 3.7            222 +- 7.8    \n",
      "THF interface            111 +- 4              109 +- 5.5    \n",
      "Ti interface            6.71 +- 0.19   \n",
      "Ti thickness            49.4 +- 0.22   \n",
      "intensity               1.06 +- 0.0097 \n",
      "material interface      14.5 +- 0.3           31.7 +- 2.2    \n",
      "material irho        0.00294 +- 0.009  \n",
      "material rho            0.92 +- 0.08        -0.757 +- 0.31   \n",
      "material thickness       124 +- 1.4            127 +- 2.7    \n",
      "    Completed: 1458.04 s [total=24.3007 m]\n",
      "r207275_t000300.txt\n"
     ]
    },
    {
     "name": "stderr",
     "output_type": "stream",
     "text": [
      "\n",
      "KeyboardInterrupt\n",
      "\n"
     ]
    }
   ],
   "source": [
    "PROCESS_ALL_DATA = True\n",
    "\n",
    "first = 0\n",
    "last = 12\n",
    "\n",
    "if PROCESS_ALL_DATA:\n",
    "    _file_list = sorted(os.listdir(dyn_data_dir))\n",
    "\n",
    "    # Get only the files for the run we're interested in\n",
    "    _good_files = [_f for _f in _file_list if _f.startswith('r%d_t' % dynamic_run)]\n",
    "    _good_files = _good_files[first:last]\n",
    "\n",
    "loop.fit(_good_files, fit_forward=False)"
   ]
  },
  {
   "cell_type": "code",
   "execution_count": null,
   "metadata": {},
   "outputs": [],
   "source": []
  }
 ],
 "metadata": {
  "kernelspec": {
   "display_name": "refl1d",
   "language": "",
   "name": "refl1d"
  },
  "language_info": {
   "codemirror_mode": {
    "name": "ipython",
    "version": 3
   },
   "file_extension": ".py",
   "mimetype": "text/x-python",
   "name": "python",
   "nbconvert_exporter": "python",
   "pygments_lexer": "ipython3",
   "version": "3.8.12"
  }
 },
 "nbformat": 4,
 "nbformat_minor": 4
}
